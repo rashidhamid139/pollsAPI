{
 "cells": [
  {
   "cell_type": "code",
   "execution_count": 12,
   "metadata": {},
   "outputs": [
    {
     "name": "stdout",
     "output_type": "stream",
     "text": [
      "Sleeping one second\n",
      "Sleeping one second\n",
      "Sleeping one second\n",
      "Sleeping one second\n",
      "Sleeping one second\n",
      "Sleeping one second\n",
      "Sleeping one second\n",
      "Sleeping one second\n",
      "Sleeping one second\n",
      "Sleeping one second\n",
      "Done Sleeping\n",
      "Done Sleeping\n",
      "Done Sleeping\n",
      "Done Sleeping\n",
      "Done Sleeping\n",
      "Done Sleeping\n",
      "Done Sleeping\n",
      "Done Sleeping\n",
      "Done Sleeping\n",
      "Done Sleeping\n",
      "\n",
      "Finsished in 1.07 seconds\n"
     ]
    }
   ],
   "source": [
    "import time\n",
    "from threading import Thread\n",
    "start = time.perf_counter()\n",
    "\n",
    "def do_something(seconds):\n",
    "    print(f'Sleeping {seconds} second')\n",
    "    time.sleep(seconds)\n",
    "    print(\"Done Sleeping\")\n",
    "threads = []\n",
    "    \n",
    "for _ in range(10):\n",
    "    t = Thread(target=do_something)\n",
    "    t.start()\n",
    "    threads.append(t)\n",
    "for t in threads:\n",
    "    t.join()\n",
    "finish = time.perf_counter()\n",
    "print()\n",
    "print(f'Finsished in {round(finish-start, 2)} seconds')"
   ]
  },
  {
   "cell_type": "code",
   "execution_count": null,
   "metadata": {},
   "outputs": [],
   "source": []
  }
 ],
 "metadata": {
  "kernelspec": {
   "display_name": "Python 3",
   "language": "python",
   "name": "python3"
  },
  "language_info": {
   "codemirror_mode": {
    "name": "ipython",
    "version": 3
   },
   "file_extension": ".py",
   "mimetype": "text/x-python",
   "name": "python",
   "nbconvert_exporter": "python",
   "pygments_lexer": "ipython3",
   "version": "3.7.0"
  }
 },
 "nbformat": 4,
 "nbformat_minor": 4
}
